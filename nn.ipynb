{
 "cells": [
  {
   "cell_type": "code",
   "execution_count": 6,
   "metadata": {},
   "outputs": [],
   "source": [
    "from sklearn.neural_network import MLPClassifier\n",
    "import pickle\n",
    "import numpy as np"
   ]
  },
  {
   "cell_type": "code",
   "execution_count": null,
   "metadata": {},
   "outputs": [
    {
     "name": "stdout",
     "output_type": "stream",
     "text": [
      "tanh\n"
     ]
    }
   ],
   "source": [
    "from sklearn.neural_network import MLPClassifier\n",
    "\n",
    "for solver in ['tanh']:\n",
    "    print(solver)\n",
    "    clf = MLPClassifier(activation=solver,\n",
    "                      random_state=1,\n",
    "                      solver = 'sgd',\n",
    "                      batch_size = 200,hidden_layer_sizes=(256,128,64)\n",
    "                      )\n",
    "    clf.fit(trainX, trainY)\n",
    "    print(clf.score(testX, testY))"
   ]
  },
  {
   "cell_type": "code",
   "execution_count": 9,
   "metadata": {},
   "outputs": [],
   "source": [
    "trainX = np.load('scaled_db_train.npy')\n",
    "trainY = trainX[:, -1]\n",
    "trainX = trainX[:, :-1]\n",
    "\n",
    "testX = np.load('scaled_db_test.npy')\n",
    "testY = trainX[:, -1]\n",
    "testX = trainX[:, :-1]\n",
    "\n"
   ]
  },
  {
   "cell_type": "code",
   "execution_count": null,
   "metadata": {},
   "outputs": [],
   "source": []
  }
 ],
 "metadata": {
  "kernelspec": {
   "display_name": "Python 3",
   "language": "python",
   "name": "python3"
  },
  "language_info": {
   "codemirror_mode": {
    "name": "ipython",
    "version": 3
   },
   "file_extension": ".py",
   "mimetype": "text/x-python",
   "name": "python",
   "nbconvert_exporter": "python",
   "pygments_lexer": "ipython3",
   "version": "3.8.1"
  }
 },
 "nbformat": 4,
 "nbformat_minor": 4
}
